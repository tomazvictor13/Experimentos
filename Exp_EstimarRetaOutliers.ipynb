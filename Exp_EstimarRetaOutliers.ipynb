{
  "nbformat": 4,
  "nbformat_minor": 0,
  "metadata": {
    "colab": {
      "name": "Exp_EstimarRetaOutliers.ipynb",
      "provenance": []
    },
    "kernelspec": {
      "name": "python3",
      "display_name": "Python 3"
    },
    "language_info": {
      "name": "python"
    }
  },
  "cells": [
    {
      "cell_type": "markdown",
      "metadata": {
        "id": "JMU4Oa-qqGxr"
      },
      "source": [
        "# Inversão de dados contaminados por outliers\n",
        "\n",
        "Para avaliar a sensibilidade a outliers da abordagem clássica, será trabalhado um experimento numérico afim de investigar as seguintes questões:\n",
        "1. Qual é efeito dos \\textit{outliers} na inversão de parâmetros?\n",
        "2. Qual é o efeito observado ao aumentar a amplitude dos \\textit{outliers}?\n",
        "\n",
        "O experimento consiste em estimar os coeficientes $\\mathbf {m} = \\{m_1, m_2 \\}$ de uma função linear, $d^{cal} = m_1 x + m_2$, a partir de dados observados $\\mathbf{d}^{obs}$ contaminado por \\textit{outliers} usando a função objetivo clássica,\n",
        "\\begin{equation}\n",
        "\\phi(\\mathbf{m}) = \\sum_i x_i^2(\\mathbf{m}).\n",
        "\\end{equation}"
      ]
    },
    {
      "cell_type": "code",
      "metadata": {
        "id": "bCj6Y-TBabuU"
      },
      "source": [
        "import numpy as np\n",
        "import matplotlib.pyplot as plt\n",
        "import os\n",
        "from scipy.optimize import minimize\n",
        "\n",
        "plt.style.use('seaborn-paper')"
      ],
      "execution_count": 1,
      "outputs": []
    },
    {
      "cell_type": "code",
      "metadata": {
        "id": "Kb0-_Tw8ayGi"
      },
      "source": [
        "## função objetivo clássica\n",
        "def phi(modelo, yn):\n",
        "    b = modelo_linear(modelo)\n",
        "    erro = yn - b    \n",
        "    return 0.5*np.sum(erro**2)"
      ],
      "execution_count": 2,
      "outputs": []
    },
    {
      "cell_type": "markdown",
      "metadata": {
        "id": "QPCTB7herUtU"
      },
      "source": [
        "Consideramos a variável independente $x$ com valores dentro do intervalo $(- 1, 1)$ para gerar $50$ números obedecendo a uma reta, representada por $d^{real}$, com coeficientes $m_1^{real} = 1 $ e $m_2^{real} = 2$. Em seguida, contaminamos os números gerados por uma distribuição gaussiana com média zero e desvio padrão $\\sigma = 0,1$. Além disso, $d^{obs}$ foi contaminado com \\textit{outliers} na região $0,4 < x < 0,9$. \n"
      ]
    },
    {
      "cell_type": "code",
      "metadata": {
        "id": "9jrYyvuHax2r"
      },
      "source": [
        "numPontos = 50          # numero de pontos\n",
        "x = np.linspace(-1,1,numPontos)\n",
        "outlierPorcentagem = 30 # porcentagem de contaminação por outliers\n",
        "media, desvio = 0, 1e-1 # média e desvio padrão do erro gaussiano\n",
        "N = 100                 # numero de observações"
      ],
      "execution_count": 3,
      "outputs": []
    },
    {
      "cell_type": "code",
      "metadata": {
        "id": "fJgyRSJsax6-"
      },
      "source": [
        "## modelo linear\n",
        "def modelo_linear(modelo):\n",
        "  X = np.linspace(-1,1,numPontos)\n",
        "  A = np.array([X, np.ones(X.size)]).T\n",
        "  x = np.array([modelo[0], modelo[1]])\n",
        "  return np.dot(A, x)"
      ],
      "execution_count": 4,
      "outputs": []
    },
    {
      "cell_type": "code",
      "metadata": {
        "id": "Am-DiWToax-2"
      },
      "source": [
        "## dado observado sem outlier\n",
        "d = modelo_linear([1,2])\n",
        "\n",
        "## dado observado com outliers\n",
        "dg = d + np.random.normal(media, desvio, d.shape) # ruido gaussiano"
      ],
      "execution_count": 5,
      "outputs": []
    },
    {
      "cell_type": "markdown",
      "metadata": {
        "id": "3pv5iERXrBDv"
      },
      "source": [
        "Na simulação, os \\textit{outliers} adicionados em cada medida obedecem a relação\n",
        "\n",
        "\\begin{equation}\n",
        "    d^{obs}_i \\rightarrow d^{real}_i + \\gamma g \\mu^{real}, \\quad g\\in(0,\\,1)\n",
        "\\end{equation}\n",
        "\n",
        "isto é, a contaminação se deu adicionando ao valor real da posição $i$ uma quantidade aleatória. Nesta equação, $\\mu^{real}$ representa o valor médio de $d^{real}$, $g\\in(0,1)$ assume valores aleatórios e $\\gamma$ é um fator que permite controlar a amplitude dos \\textit{outliers}. Para responder a questão 1, foi fixado $\\gamma = 10$, enquanto para responder a questão 2 o experimento foi repetido com $5 \\le \\gamma \\le 1000$ com passos de $5$ unidades. "
      ]
    },
    {
      "cell_type": "code",
      "metadata": {
        "id": "WxRvJ94ilTgg"
      },
      "source": [
        "### adicionar picos\n",
        "\n",
        "mu = d.mean()\n",
        "\n",
        "def dobs(d_obs, gamma, media):\n",
        "  dobs = d_obs.copy()\n",
        "  for p in range(35,45):\n",
        "    dobs[p] = dobs[p] + gamma*np.random.random()*mu\n",
        "  return dobs"
      ],
      "execution_count": 6,
      "outputs": []
    },
    {
      "cell_type": "code",
      "metadata": {
        "id": "ODyy2YXOayCK"
      },
      "source": [
        "## Dado observado para o experimento 1\n",
        "dexp1 = dobs(dg, 10, mu)"
      ],
      "execution_count": 7,
      "outputs": []
    },
    {
      "cell_type": "code",
      "metadata": {
        "id": "PQlOTfP5fOLY"
      },
      "source": [
        "res = minimize(phi, x0=[0,0], args=(dexp1), method='CG', tol=1e-6)\n",
        "dcalExp1 = modelo_linear(res.x)"
      ],
      "execution_count": 8,
      "outputs": []
    },
    {
      "cell_type": "code",
      "metadata": {
        "colab": {
          "base_uri": "https://localhost:8080/",
          "height": 283
        },
        "id": "5AELDNeufOSK",
        "outputId": "7b79d52a-56fa-46b2-c9b3-de5c9f33c219"
      },
      "source": [
        "fig, ax = plt.subplots()\n",
        "ax.plot(x, dg, 'o', c='black', label=r'$d^{obs}$')\n",
        "ax.plot(x[35:45], dexp1[35:45], 'o', c='red', label='outliers')\n",
        "ax.plot(x, modelo_linear([1,2]), color='#FF7E00', lw=2)\n",
        "ax.plot(x, dcalExp1, label=r'$d^{cal}$', color='#9a76b6', lw=2)\n",
        "ax.legend()"
      ],
      "execution_count": 9,
      "outputs": [
        {
          "output_type": "execute_result",
          "data": {
            "text/plain": [
              "<matplotlib.legend.Legend at 0x7f35540ca990>"
            ]
          },
          "metadata": {
            "tags": []
          },
          "execution_count": 9
        },
        {
          "output_type": "display_data",
          "data": {
            "image/png": "[encoded data removed]",
            "text/plain": [
              "<Figure size 432x288 with 1 Axes>"
            ]
          },
          "metadata": {
            "tags": [],
            "needs_background": "light"
          }
        }
      ]
    },
    {
      "cell_type": "code",
      "metadata": {
        "id": "EI8HfYedfOZF"
      },
      "source": [
        "mcal = {}\n",
        "\n",
        "for gamma in np.arange(0,1005,5):\n",
        "\n",
        "  do = dobs(dg, gamma, mu)\n",
        "\n",
        "  res = minimize(phi, x0=[0,0], args=(do), method='CG', tol=1e-6)\n",
        "  mcal[str(gamma)] = res"
      ],
      "execution_count": 10,
      "outputs": []
    },
    {
      "cell_type": "markdown",
      "metadata": {
        "id": "UQOk_i-9rrb2"
      },
      "source": [
        "Para avaliar os resultados, consideramos o desvio absoluto computado entre o valor calculado e o valor real dos coeficientes da reta: $|\\Delta m_1| = |m_1 - m_1^{real}|$ e $|\\Delta m_1| = |m_1 - m_1^{real}|$. Neste sentido, um bom resultado ocorre quando estes desvios se aproxima de 0 (os parâmetros são idênticos) e o contrário quando se afastam (o parâmetro calculado não representa o real). "
      ]
    },
    {
      "cell_type": "code",
      "metadata": {
        "id": "-p0SI2cekrbC"
      },
      "source": [
        "a, b = [], []\n",
        "for _ in mcal.keys():\n",
        "  a.append(abs(1 - mcal[_].x[0])), b.append(abs(2 - mcal[_].x[1]))"
      ],
      "execution_count": 11,
      "outputs": []
    },
    {
      "cell_type": "code",
      "metadata": {
        "colab": {
          "base_uri": "https://localhost:8080/",
          "height": 242
        },
        "id": "eWk3nCyToewu",
        "outputId": "2d8ceff7-e0ab-4a47-ff7b-7671a267475e"
      },
      "source": [
        "fig,ax = plt.subplots(1,3, figsize=(9,3), tight_layout=True)\n",
        "\n",
        "## experimento 1:\n",
        "ax[0].plot(x, dg, 'o', color='k', label='$d^{obs}$')\n",
        "ax[0].plot(x[35:45], dexp1[35:45], 'o', color='red', label='outliers')\n",
        "ax[0].plot(x, d, color='orange', lw=2, label=r'$d^{real}$')\n",
        "ax[0].plot(x, dcalExp1, color='#559559', lw=2, label=r'$d^{cal}$')\n",
        "\n",
        "## Experimento 2\n",
        "ax[1].plot(np.arange(0,1005,5), a, 'o', c='k')\n",
        "ax[1].axhline(0, color='#d42828')\n",
        "\n",
        "ax[2].plot(np.arange(0,1005,5), b, 'o', c='k')\n",
        "ax[2].axhline(0, color='#d42828')\n",
        "\n",
        "ax[1].set_ylabel(r'$|\\Delta m_1|$', fontsize=13)\n",
        "ax[2].set_ylabel(r'$|\\Delta m_2|$', fontsize=13)\n",
        "\n",
        "for _, lab in zip(range(3), ['(a)', '(b)', '(c)']):\n",
        "  ax[_].set_xlabel(r'$\\gamma$', fontsize=13)\n",
        "  ax[_].set_title(lab, loc='left', fontsize=13)\n",
        "\n",
        "ax[0].set_xlabel(r'$x$', fontsize=13)\n",
        "ax[0].set_ylabel(r'$d$', fontsize=13)\n",
        "ax[0].legend(fontsize=10)\n",
        "\n",
        "#fig.savefig(mydrive+'/retaL2_parametrosEstimados.pdf')"
      ],
      "execution_count": 12,
      "outputs": [
        {
          "output_type": "execute_result",
          "data": {
            "text/plain": [
              "<matplotlib.legend.Legend at 0x7f3553fb18d0>"
            ]
          },
          "metadata": {
            "tags": []
          },
          "execution_count": 12
        },
        {
          "output_type": "display_data",
          "data": {
            "image/png": "[encoded data removed]",
            "text/plain": [
              "<Figure size 648x216 with 3 Axes>"
            ]
          },
          "metadata": {
            "tags": [],
            "needs_background": "light"
          }
        }
      ]
    },
    {
      "cell_type": "markdown",
      "metadata": {
        "id": "D7HG4T7Pr2Db"
      },
      "source": [
        "A figura anterior apresenta os resultados deste teste. Em (a) percebemos que a reta calculada sofre forte influência dos \\textit{outliers}, inclinando-se ao encontro desses e em (b) e (c) identificamos que na medida em que a amplitude dos \\textit{outliers} aumenta, os resultados vão ficando cada vez mais distante do real.  \n",
        "\n",
        "Assim, o experimento demonstra que usar a abordagem clássica do problema inverso para estimar parâmetros não é uma boa estratégia neste tipo de problema. Nesse sentido, se faz necessário a busca por novas abordagens estatísticas para lidar com problemas que envolvem \\textit{outliers}."
      ]
    }
  ]
}